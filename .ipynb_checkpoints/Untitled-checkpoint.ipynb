{
 "cells": [
  {
   "cell_type": "code",
   "execution_count": 5,
   "id": "230946d6",
   "metadata": {},
   "outputs": [],
   "source": [
    "import cv2\n",
    "import numpy as np\n",
    "image = cv2.imread(\"ya.jpg\")\n",
    "original_image = cv2.cvtColor(image,cv2.COLOR_BGR2RGB)\n",
    "cv2.imshow('original',original_image)\n",
    "cv2.waitKey(0)\n",
    "cv2.destroyAllWindows()\n",
    "kernel1 = np.ones((11,11),np.float32)/121\n",
    "box_filter = cv2.filter2D(original_image,-1,kernel1)\n",
    "cv2.imshow('box_filter',box_filter)\n",
    "cv2.waitKey(0)\n",
    "cv2.destroyAllWindows()\n",
    "\n"
   ]
  },
  {
   "cell_type": "code",
   "execution_count": 6,
   "id": "fa089902",
   "metadata": {},
   "outputs": [],
   "source": [
    "\n",
    "#ii) Using Weighted Averaging Filter\n",
    "import cv2\n",
    "import numpy as np\n",
    "image = cv2.imread(\"ya.jpg\")\n",
    "original_image = cv2.cvtColor(image,cv2.COLOR_BGR2RGB)\n",
    "cv2.imshow('original',original_image)\n",
    "cv2.waitKey(0)\n",
    "cv2.destroyAllWindows()\n",
    "kernel2 = np.array([[1,2,1],[2,4,2],[1,2,1]])/16\n",
    "weighted_filter = cv2.filter2D(original_image,-1,kernel2)\n",
    "cv2.imshow('weighted_filter',weighted_filter)\n",
    "cv2.waitKey(0)\n",
    "cv2.destroyAllWindows()"
   ]
  },
  {
   "cell_type": "code",
   "execution_count": 7,
   "id": "75dd951e",
   "metadata": {},
   "outputs": [],
   "source": [
    "#iii) Using Gaussian Filter\n",
    "import cv2\n",
    "import numpy as np\n",
    "image = cv2.imread(\"ya.jpg\")\n",
    "original_image = cv2.cvtColor(image,cv2.COLOR_BGR2RGB)\n",
    "cv2.imshow('original',original_image)\n",
    "cv2.waitKey(0)\n",
    "cv2.destroyAllWindows()\n",
    "gaussian_blur = cv2.GaussianBlur(src = original_image, ksize = (11,11), sigmaX=0,\n",
    "sigmaY=0)\n",
    "cv2.imshow('gaussian_filter',gaussian_blur)\n",
    "cv2.waitKey(0)\n",
    "cv2.destroyAllWindows()\n",
    "\n",
    "\n",
    "\n",
    "\n"
   ]
  },
  {
   "cell_type": "code",
   "execution_count": 8,
   "id": "4ad3d0c4",
   "metadata": {},
   "outputs": [],
   "source": [
    "\n",
    "#iv) Using Median Filter\n",
    "import cv2\n",
    "import numpy as np\n",
    "image = cv2.imread(\"ya.jpg\")\n",
    "original_image = cv2.cvtColor(image,cv2.COLOR_BGR2RGB)\n",
    "cv2.imshow('original',original_image)\n",
    "cv2.waitKey(0)\n",
    "cv2.destroyAllWindows()\n",
    "median = cv2.medianBlur(src=original_image,ksize = 11)\n",
    "cv2.imshow('median_filter',median)\n",
    "cv2.waitKey(0)\n",
    "cv2.destroyAllWindows()\n"
   ]
  },
  {
   "cell_type": "code",
   "execution_count": 9,
   "id": "ab61cbd9",
   "metadata": {},
   "outputs": [],
   "source": [
    "\n",
    "\n",
    "#i) Using Laplacian Kernal\n",
    "import cv2\n",
    "import numpy as np\n",
    "image = cv2.imread(\"ya.jpg\")\n",
    "original_image = cv2.cvtColor(image,cv2.COLOR_BGR2RGB)\n",
    "cv2.imshow('original',original_image)\n",
    "cv2.waitKey(0)\n",
    "cv2.destroyAllWindows()\n",
    "kernel3 = np.array([[0,1,0],[1,-4,1],[0,1,0]])\n",
    "laplacian_kernel = cv2.filter2D(original_image,-1,kernel3)\n",
    "cv2.imshow('laplacian_kernel',laplacian_kernel)\n",
    "cv2.waitKey(0)\n",
    "cv2.destroyAllWindows()\n",
    "\n",
    "\n"
   ]
  },
  {
   "cell_type": "code",
   "execution_count": 10,
   "id": "16a6854f",
   "metadata": {},
   "outputs": [],
   "source": [
    "#ii) Using Laplacian Operator\n",
    "import cv2\n",
    "import numpy as np\n",
    "image = cv2.imread(\"ya.jpg\")\n",
    "original_image = cv2.cvtColor(image,cv2.COLOR_BGR2RGB)\n",
    "cv2.imshow('original',original_image)\n",
    "cv2.waitKey(0)\n",
    "cv2.destroyAllWindows()\n",
    "laplacian_operator = cv2.Laplacian(original_image,cv2.CV_64F)\n",
    "cv2.imshow('laplacian_operator',laplacian_operator)\n",
    "cv2.waitKey(0)\n",
    "cv2.destroyAllWindows()\n",
    "\n",
    "\n",
    "\n",
    "\n",
    "\n"
   ]
  },
  {
   "cell_type": "code",
   "execution_count": null,
   "id": "fb763ddf",
   "metadata": {},
   "outputs": [],
   "source": []
  }
 ],
 "metadata": {
  "kernelspec": {
   "display_name": "Python 3",
   "language": "python",
   "name": "python3"
  },
  "language_info": {
   "codemirror_mode": {
    "name": "ipython",
    "version": 3
   },
   "file_extension": ".py",
   "mimetype": "text/x-python",
   "name": "python",
   "nbconvert_exporter": "python",
   "pygments_lexer": "ipython3",
   "version": "3.8.8"
  }
 },
 "nbformat": 4,
 "nbformat_minor": 5
}
